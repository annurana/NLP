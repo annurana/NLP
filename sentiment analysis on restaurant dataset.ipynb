{
 "cells": [
  {
   "cell_type": "code",
   "execution_count": 18,
   "metadata": {},
   "outputs": [],
   "source": [
    "import re\n",
    "from nltk.corpus import stopwords\n",
    "from nltk.tokenize import word_tokenize\n",
    "import pandas as pd\n",
    "from sklearn.feature_extraction.text import CountVectorizer\n",
    "from sklearn.feature_extraction.text import TfidfVectorizer\n",
    "from sklearn.linear_model import LogisticRegression\n",
    "from sklearn.model_selection import train_test_split"
   ]
  },
  {
   "cell_type": "code",
   "execution_count": 15,
   "metadata": {},
   "outputs": [],
   "source": [
    "df=pd.read_csv(\"d:/dataset/sentiment/Restaurant_Reviews.txt\",sep=\"\\t\")\n",
    "corpus=df.Review\n",
    "target=df.Liked"
   ]
  },
  {
   "cell_type": "code",
   "execution_count": 19,
   "metadata": {},
   "outputs": [],
   "source": [
    "sw=stopwords.words(\"english\")\n",
    "sw.remove('not')\n",
    "\n",
    "def remove_punch(doc):\n",
    "    return re.sub(\"[^a-z ]\",\"\",doc).strip()\n",
    "\n",
    "def remove_sp(doc):\n",
    "    tokens=word_tokenize(doc)\n",
    "    s2=\"\"\n",
    "    for i in tokens:\n",
    "        if(i not in sw):\n",
    "            s2=s2+i+\" \"\n",
    "    return s2.strip()\n",
    "\n",
    "def text_cleaning(doc):\n",
    "    doc=doc.lower()\n",
    "    doc=remove_punch(doc)\n",
    "    doc=remove_sp(doc)\n",
    "    return doc\n",
    "\n",
    "cleaned_corpus=list(map(text_cleaning,corpus))\n",
    "X_train,X_test,y_train,y_test=train_test_split(cleaned_corpus,target,random_state=10)"
   ]
  },
  {
   "cell_type": "code",
   "execution_count": 52,
   "metadata": {},
   "outputs": [
    {
     "name": "stdout",
     "output_type": "stream",
     "text": [
      "Total features: 4919\n",
      "Training Score: 0.9986666666666667\n",
      "Testing Score: 0.868\n"
     ]
    }
   ],
   "source": [
    "cv=CountVectorizer(binary=False,ngram_range=(1,2))\n",
    "X_train_new=cv.fit_transform(X_train).toarray() \n",
    "X_test_new=cv.transform(X_test)\n",
    "print(\"Total features:\",len(cv.get_feature_names()))\n",
    "model=LogisticRegression()\n",
    "model.fit(X_train_new,y_train)\n",
    "print(\"Training Score:\",model.score(X_train_new,y_train))\n",
    "print(\"Testing Score:\",model.score(X_test_new,y_test))"
   ]
  },
  {
   "cell_type": "code",
   "execution_count": 51,
   "metadata": {},
   "outputs": [
    {
     "name": "stdin",
     "output_type": "stream",
     "text": [
      "enter review: good taste\n"
     ]
    },
    {
     "name": "stdout",
     "output_type": "stream",
     "text": [
      "pos?\n"
     ]
    }
   ],
   "source": [
    "review=input(\"enter review:\")\n",
    "cleaned_review=text_cleaning(review)\n",
    "test=cv.transform([cleaned_review])\n",
    "pred=model.predict(test)\n",
    "if(pred[0]==0):\n",
    "    print(\"neg\")\n",
    "else:\n",
    "    print(\"pos\")"
   ]
  },
  {
   "cell_type": "code",
   "execution_count": 53,
   "metadata": {},
   "outputs": [],
   "source": [
    "from sklearn.naive_bayes import BernoulliNB,MultinomialNB,GaussianNB"
   ]
  },
  {
   "cell_type": "code",
   "execution_count": 64,
   "metadata": {},
   "outputs": [
    {
     "name": "stdout",
     "output_type": "stream",
     "text": [
      "Training Score: 0.9653333333333334\n",
      "Testing Score: 0.764\n"
     ]
    }
   ],
   "source": [
    "cv=CountVectorizer(binary=True,ngram_range=(1,1))\n",
    "X_train_new=cv.fit_transform(X_train).toarray() \n",
    "X_test_new=cv.transform(X_test)\n",
    "model=BernoulliNB()\n",
    "model.fit(X_train_new,y_train)\n",
    "print(\"Training Score:\",model.score(X_train_new,y_train))\n",
    "print(\"Testing Score:\",model.score(X_test_new,y_test))"
   ]
  },
  {
   "cell_type": "code",
   "execution_count": 69,
   "metadata": {},
   "outputs": [
    {
     "name": "stdout",
     "output_type": "stream",
     "text": [
      "Training Score: 0.992\n",
      "Testing Score: 0.82\n"
     ]
    }
   ],
   "source": [
    "cv=CountVectorizer(binary=False,ngram_range=(1,2))\n",
    "X_train_new=cv.fit_transform(X_train).toarray() \n",
    "X_test_new=cv.transform(X_test)\n",
    "model=MultinomialNB()\n",
    "model.fit(X_train_new,y_train)\n",
    "print(\"Training Score:\",model.score(X_train_new,y_train))\n",
    "print(\"Testing Score:\",model.score(X_test_new,y_test))"
   ]
  },
  {
   "cell_type": "code",
   "execution_count": 76,
   "metadata": {},
   "outputs": [
    {
     "name": "stdout",
     "output_type": "stream",
     "text": [
      "Training Score: 0.9986666666666667\n",
      "Testing Score: 0.692\n"
     ]
    }
   ],
   "source": [
    "tv=TfidfVectorizer(ngram_range=(1,2))\n",
    "X_train_new=tv.fit_transform(X_train).toarray() \n",
    "X_test_new=tv.transform(X_test).toarray()\n",
    "model=GaussianNB()\n",
    "model.fit(X_train_new,y_train)\n",
    "print(\"Training Score:\",model.score(X_train_new,y_train))\n",
    "print(\"Testing Score:\",model.score(X_test_new,y_test))"
   ]
  },
  {
   "cell_type": "code",
   "execution_count": null,
   "metadata": {},
   "outputs": [],
   "source": []
  }
 ],
 "metadata": {
  "kernelspec": {
   "display_name": "Python 3",
   "language": "python",
   "name": "python3"
  },
  "language_info": {
   "codemirror_mode": {
    "name": "ipython",
    "version": 3
   },
   "file_extension": ".py",
   "mimetype": "text/x-python",
   "name": "python",
   "nbconvert_exporter": "python",
   "pygments_lexer": "ipython3",
   "version": "3.8.3"
  }
 },
 "nbformat": 4,
 "nbformat_minor": 5
}
